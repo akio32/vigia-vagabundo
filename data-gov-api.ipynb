{
 "cells": [
  {
   "cell_type": "code",
   "execution_count": 1,
   "metadata": {},
   "outputs": [],
   "source": [
    "# Importação das bibliotecas a serem utilizadas\n",
    "import requests\n",
    "import pandas as pd"
   ]
  },
  {
   "cell_type": "code",
   "execution_count": 3,
   "metadata": {},
   "outputs": [],
   "source": [
    "# Função que retorna uma lista de proposicoes, dados macro\n",
    "def consulta_propostas():\n",
    "\n",
    "    # Faz requisição para a API e obtém as informações das proposições em tramitação\n",
    "    response = requests.get(url='https://dadosabertos.camara.leg.br/api/v2/proposicoes?ano=2022&siglaTipo=PL&itens=100')\n",
    "\n",
    "    # Inicializa lista dos resultados\n",
    "    ids_proposicoes = {}\n",
    "    keep_loop = True\n",
    "\n",
    "    while keep_loop:\n",
    "    \n",
    "        # Verifica se a requisição foi bem sucedida\n",
    "        if response.status_code == 200:\n",
    "            keep_loop = True\n",
    "        else:\n",
    "            print('Erro ao acessar a API')\n",
    "            return []\n",
    "\n",
    "        # Arquivo JSON retornado pela API\n",
    "        proposicoes = response.json()['dados']\n",
    "\n",
    "        # Loop na lista para extrair os IDs e URIs das proposições e retorna um dicionário\n",
    "        for proposicao in proposicoes:\n",
    "            ids_proposicoes[proposicao['id']] = proposicao['uri']\n",
    "\n",
    "        #Verifica quantidade de paginas para consulta\n",
    "        check_next = response.json()['links']\n",
    "\n",
    "        for next in check_next:\n",
    "            if next['rel'] == 'next':\n",
    "                keep_loop = True\n",
    "                next_request = next['href']\n",
    "                break\n",
    "            else:\n",
    "                keep_loop = False\n",
    "\n",
    "        df_detalhes = consulta_detalhes_propostas(ids_proposicoes)\n",
    "\n",
    "        # Faz requisição para a API e obtém as informações das proposições em tramitação\n",
    "        response = requests.get(url=next_request)\n",
    "\n",
    "    return ids_proposicoes"
   ]
  },
  {
   "cell_type": "code",
   "execution_count": 2,
   "metadata": {},
   "outputs": [],
   "source": [
    "# Função que retorna uma lista detalhaada das proposições passadas via parametro \"ids_proposicoes\"\n",
    "def consulta_detalhes_propostas(ids_proposicoes):\n",
    "    \n",
    "    detalhes_proposicoes = []\n",
    "\n",
    "    for id_proposicao in ids_proposicoes:\n",
    "\n",
    "        response = requests.get(ids_proposicoes[id_proposicao])\n",
    "\n",
    "        if response.status_code == 200:\n",
    "            detalhes_proposicoes.append(response.json()['dados']) \n",
    "        else:\n",
    "            print('Erro ao acessar a API')\n",
    "\n",
    "    return detalhes_proposicoes"
   ]
  },
  {
   "cell_type": "code",
   "execution_count": 26,
   "metadata": {},
   "outputs": [],
   "source": [
    "df = pd.DataFrame(consulta_detalhes_propostas(consulta_propostas()))"
   ]
  },
  {
   "cell_type": "code",
   "execution_count": 24,
   "metadata": {},
   "outputs": [],
   "source": [
    "df = consulta_propostas()"
   ]
  }
 ],
 "metadata": {
  "kernelspec": {
   "display_name": "Python 3",
   "language": "python",
   "name": "python3"
  },
  "language_info": {
   "codemirror_mode": {
    "name": "ipython",
    "version": 3
   },
   "file_extension": ".py",
   "mimetype": "text/x-python",
   "name": "python",
   "nbconvert_exporter": "python",
   "pygments_lexer": "ipython3",
   "version": "3.10.7"
  },
  "orig_nbformat": 4
 },
 "nbformat": 4,
 "nbformat_minor": 2
}
